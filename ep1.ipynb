{
  "nbformat": 4,
  "nbformat_minor": 0,
  "metadata": {
    "colab": {
      "private_outputs": true,
      "provenance": [],
      "gpuType": "T4"
    },
    "kernelspec": {
      "name": "python3",
      "display_name": "Python 3"
    },
    "language_info": {
      "name": "python"
    },
    "accelerator": "GPU"
  },
  "cells": [
    {
      "cell_type": "code",
      "execution_count": null,
      "metadata": {
        "id": "LsBHOc70Jhr2"
      },
      "outputs": [],
      "source": [
        "import sklearn\n",
        "import tensorflow"
      ]
    },
    {
      "cell_type": "code",
      "source": [
        "# 랜덤 숫자 출력\n",
        "\n",
        "#import random\n",
        "\n",
        "#random_number = random.randint(1, 100)\n",
        "#print(random_number)\n",
        "\n",
        "\n",
        "bream_length = [25.4, 26.3, 26.5, 29.0, 29.7, 29.7, 30.0, 30.0, 30.7,\n",
        "                31.0, 31.0, 31.5, 32.0, 32.0, 32.0, 33.0, 33.5, 33.5,\n",
        "                34.0, 34.0, 34.5, 35.0, 35.0, 35.0, 35.0, 36.0, 36.0, 37.0,\n",
        "                38.5, 38.5, 39.5, 41.0, 41.0]\n",
        "\n",
        "bream_weight = [242.0, 290.0, 340.0, 363.0, 430.0, 450.0, 50.0, 390.0, 450.0, 500.0, 475.0, 500.0, 340.0, 600.0, 600.0, 700.0,\n",
        "                700.0, 610.0, 650.0, 575.0, 685.0, 620.0, 680.0, 700.0, 725.0, 720.0, 714.0, 850.0, 1000.0, 920.0, 955.0, 925.0, 975.0, 950.0]\n"
      ],
      "metadata": {
        "id": "uJkRUeG4NFya"
      },
      "execution_count": null,
      "outputs": []
    },
    {
      "cell_type": "code",
      "source": [
        "import matplotlib.pyplot as plt\n",
        "\n",
        "# 데이터 정의\n",
        "bream_length = [1, 2, 3, 4, 5]\n",
        "bream_weight = [10, 15, 20, 25, 30]\n",
        "\n",
        "smelt_length = [2, 4, 6, 8, 10]\n",
        "smelt_weight = [11, 13, 17, 29, 34]\n",
        "\n",
        "# 산점도 그리기\n",
        "plt.scatter(bream_length, bream_weight)\n",
        "plt.scatter(smelt_length, smelt_weight)\n",
        "\n",
        "# x축과 y축 레이블 설정\n",
        "plt.xlabel('length')\n",
        "plt.ylabel('weight')\n",
        "\n",
        "# 그래프 보여주기\n",
        "plt.show()\n"
      ],
      "metadata": {
        "id": "fvv0mqmpNXny"
      },
      "execution_count": null,
      "outputs": []
    },
    {
      "cell_type": "code",
      "source": [
        "# 데이터 합치기\n",
        "length = bream_length + smelt_length\n",
        "weight = bream_weight + smelt_weight\n"
      ],
      "metadata": {
        "id": "DRMzmGFRiSpf"
      },
      "execution_count": null,
      "outputs": []
    },
    {
      "cell_type": "code",
      "source": [
        "# fish_data 변수에는 length와 weight를 조합하여 만든 2차원 리스트가 할당됩니다.\n",
        "fish_data = [[l, w] for l, w in zip(length, weight)]\n",
        "\n",
        "# fish_target 변수에는 1이 35번 반복된 후, 0이 14번 반복된 리스트가 할당됩니다.\n",
        "fish_target = [1]*35 + [0]*14\n",
        "#fish_target"
      ],
      "metadata": {
        "id": "gc6HvlUijVOt"
      },
      "execution_count": null,
      "outputs": []
    },
    {
      "cell_type": "code",
      "source": [
        "# k-최근접 이웃 분류기를 사용하여 모델을 생성하고 평가하는 예제 코드\n",
        "\n",
        "# 필요한 라이브러리 임포트\n",
        "from sklearn.neighbors import KNeighborsClassifier\n",
        "\n",
        "# KNeighborsClassifier 클래스의 객체 생성\n",
        "kn = KNeighborsClassifier()\n",
        "\n",
        "# 모델을 훈련 데이터로 학습\n",
        "kn.fit(fish_data, fish_target)\n",
        "\n",
        "# 모델의 정확도를 계산하여 출력\n",
        "score = kn.score(fish_data, fish_target)\n",
        "print(\"모델 정확도:\", score)\n"
      ],
      "metadata": {
        "id": "IFyOiF9Ojv8g"
      },
      "execution_count": null,
      "outputs": []
    },
    {
      "cell_type": "code",
      "source": [
        "print(len(length))\n",
        "print(len(weight))\n",
        "print(len(fish_data))\n",
        "print(len(fish_target))"
      ],
      "metadata": {
        "id": "gHIupobTplji"
      },
      "execution_count": null,
      "outputs": []
    }
  ]
}